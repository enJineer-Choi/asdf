{
 "cells": [
  {
   "cell_type": "markdown",
   "metadata": {
    "id": "lUbbvwo-BIZd"
   },
   "source": [
    "## 네이버 금융 뉴스기사 수집\n",
    "* [삼성전자 : 네이버 금융](https://finance.naver.com/item/news.naver?code=005930)\n",
    "\n",
    "```\n",
    "<html lang=\"ko\">\n",
    "<head>\n",
    "<meta http-equiv=\"Content-Type\" content=\"text/html; charset=euc-kr\">\n",
    "<title>네이버 금융</title>\n",
    "\n",
    "<link rel=\"stylesheet\" type=\"text/css\" href=\"https://ssl.pstatic.net/imgstock/static.pc/20220511192542/css/newstock.css\">\n",
    "<style data-emotion=\"css\" data-s=\"\"></style>\n",
    "</head>\n",
    "\n",
    "\n",
    "<body>\n",
    "<script type=\"text/javascript\" src=\"https://ssl.pstatic.net/imgstock/static.pc/20220511192542/js/jindo.min.ns.1.5.3.euckr.js\"></script>\n",
    "\t\t<div class=\"tb_cont\">\n",
    "\t\t\t<div class=\"tlline2\">\n",
    "\t\t\t\t<strong><span class=\"red03\">종목</span>뉴스</strong>\n",
    "\t\t\t\t<!-- [D] 선택시 blind 태그 추가 -->\n",
    "\t\t\t\t<div class=\"info_txt\">종목뉴스 안내<a href=\"#\" onclick=\"togglePannel('layer_section'); clickcr(this,'stn.ninfo','','',event); return false;\" class=\"btn_info_layer\"><img src=\"https://ssl.pstatic.net/static/nfinance/2017/10/13/btn_help2.png\" alt=\"상세 설명\"></a>\n",
    "\t\t\t\t\t<div class=\"layer_section\" id=\"layer_section\" style=\"display:none\">\n",
    "\t\t\t\t\t\t<strong>네이버 증권 종목뉴스 안내</strong>\n",
    "\t\t\t\t\t\t<p class=\"txt\">\n",
    "\t\t\t\t\t\t\tAI(인공지능 검색기술)을 이용한 종목 관련 뉴스입니다. <br>관련뉴스는 자동으로 묶어 보여줍니다.\n",
    "\t\t\t\t\t\t\t<br>\n",
    "\t\t\t\t\t\t\t<span class=\"txt_opt\">\n",
    "\t\t\t\t\t\t\t\t검색영역 옵션\n",
    "\t\t\t\t\t\t\t\t<br>\n",
    "\t\t\t\t\t\t\t\t제목 : 제목에서 종목명이 검색된 결과입니다. <br>\n",
    "\t\t\t\t\t\t\t\t내용 : 제목과 본문에서 종목명이 검색된 결과입니다.\n",
    "\t\t\t\t\t\t\t</span>\n",
    "\t\t\t\t\t\t</p>\n",
    "\t\t\t\t\t\t<a href=\"#\" onclick=\"togglePannel('layer_section'); return false;\" class=\"btn_close\"><span class=\"blind\">닫기</span></a>\n",
    "\t\t\t\t\t</div>\n",
    "\t\t\t\t</div>\n",
    "\t\t\t</div>\n",
    "\t\t\t\n",
    "\t\t\t<table summary=\"종목뉴스의 제목, 정보제공, 날짜\" cellspacing=\"0\" class=\"type5\">\n",
    "\t\t\t\t<caption>종목뉴스</caption>\n",
    "\t\t\t\t<colgroup>\n",
    "\t\t\t\t\t<col>\n",
    "\t\t\t\t\t<col width=\"130px\">\n",
    "\t\t\t\t\t<col width=\"110px\">\n",
    "\t\t\t\t</colgroup>\n",
    "\t\t\t\t<thead>\n",
    "\t\t\t\t\t<tr>\n",
    "\t\t\t\t\t\t<th scope=\"col\">제목</th>\n",
    "\t\t\t\t\t\t<th scope=\"col\">정보제공</th>\n",
    "\t\t\t\t\t\t<th scope=\"col\">날짜</th>\n",
    "\t\t\t\t\t</tr>\n",
    "\t\t\t\t</thead>\n",
    "\n",
    "\t\t \t\t<tbody>\n",
    " \t\t\t\t\t\t\t\n",
    " \t\t\t\t\t\t\t<tr class=\"first\">\t \t\t\t\t\t\t\n",
    "\t \t\t\t\t\t\t\t<td class=\"title\">\n",
    "\t\t\t\t\t\t\t\t\t<a href=\"/item/news_read.naver?article_id=0004836222&amp;office_id=014&amp;code=005930&amp;page=1&amp;sm=title_entity_id.basic\" class=\"tit\" onclick=\"clickcr(this,'stn.ntitclust','','',event);\" target=\"_top\">삼성, 포켓몬 이어 뚱랑이 갤Z플립3에 입힌다</a>\n",
    "\t\t\t\t\t\t\t\t\t\n",
    "\t\t\t\t\t\t\t\t</td>\n",
    "\t\t\t\t\t\t\t\t<td class=\"info\">파이낸셜뉴스</td>\n",
    "\t\t\t\t\t\t\t\t<td class=\"date\"> 05.15 11:52</td>\n",
    " \t\t\t\t\t\t\t</tr>\t \t\t\t\t\t\n",
    " \t\t\t\t\t\t\n",
    "\n",
    " \t\t\t\t\t\t\t<tr>\t \t\t\t\t\t\t\n",
    "\t \t\t\t\t\t\t\t<td class=\"title\">\n",
    "\t\t\t\t\t\t\t\t\t<a href=\"/item/news_read.naver?article_id=0001990771&amp;office_id=016&amp;code=005930&amp;page=1&amp;sm=title_entity_id.basic\" class=\"tit\" onclick=\"clickcr(this,'stn.ntitclust','','',event);\" target=\"_top\">삼성전자, 16일부터 갤럭시 Z 플립3 '무직타이거 에디션' 한정 판매</a>\n",
    "\t\t\t\t\t\t\t\t\t\n",
    "\t\t\t\t\t\t\t\t</td>\n",
    "\t\t\t\t\t\t\t\t<td class=\"info\">헤럴드경제</td>\n",
    "\t\t\t\t\t\t\t\t<td class=\"date\"> 05.15 11:41</td>\n",
    " \t\t\t\t\t\t\t</tr>\t \t\t\t\t\t\n",
    " \t\t\t\t\n",
    "\t\t\t\t</tbody>\n",
    "\t\t\t</table>\n",
    " \t\t\t\t\t\t\n",
    "\t\t\t<!--- 종목뉴스 끝--->\n",
    "\t\t\t<!--- 페이지 네비게이션 시작--->\n",
    "\t\t\t\n",
    "\t\t\t<table summary=\"페이지 네비게이션 리스트\" class=\"Nnavi\" align=\"center\">\n",
    "\t\t\t\t<caption>페이지 네비게이션</caption>\n",
    "\t\t\t\t<tbody><tr>\n",
    "\t\t\t\t\t\n",
    "\t\t\t\t\t\t\n",
    "\t\t                \n",
    "\t\t                <td class=\"on\">\n",
    "\t\t\t\t<a href=\"/item/news_news.nhn?code=005930&amp;page=1&amp;sm=title_entity_id.basic&amp;clusterId=\" onclick=\"clickcr(this,'stn.npag','','',event);\">1</a>\n",
    "\t\t\t\t</td>\n",
    "                <td>\n",
    "\t\t\t\t<a href=\"/item/news_news.nhn?code=005930&amp;page=2&amp;sm=title_entity_id.basic&amp;clusterId=\" onclick=\"clickcr(this,'stn.npag','','',event);\">2</a>\n",
    "\t\t\t\t</td>\n",
    "\t\t                <td class=\"pgR\">\n",
    "\t\t\t\t<a href=\"/item/news_news.nhn?code=005930&amp;page=11&amp;sm=title_entity_id.basic&amp;clusterId=\" onclick=\"clickcr(this,'stn.npag','','',event);\">\n",
    "\t\t\t\t다음<img src=\"https://ssl.pstatic.net/static/n/cmn/bu_pgarR.gif\" width=\"3\" height=\"5\" alt=\"\" border=\"0\">\n",
    "\t\t\t\t</a>\n",
    "\t\t\t\t</td>\n",
    "\n",
    "\t\t                <td class=\"pgRR\">\n",
    "\t\t\t\t<a href=\"/item/news_news.nhn?code=005930&amp;page=1269&amp;sm=title_entity_id.basic&amp;clusterId=\" onclick=\"clickcr(this,'stn.npag','','',event);\">맨뒤\n",
    "\t\t\t\t<img src=\"https://ssl.pstatic.net/static/n/cmn/bu_pgarRR.gif\" width=\"8\" height=\"5\" alt=\"\" border=\"0\">\n",
    "\t\t\t\t</a>\n",
    "\t\t\t\t</td>\n",
    "\t\t            \n",
    "\t\t\t\t</tr>\n",
    "\t\t\t</tbody></table>\n",
    "            \n",
    "\n",
    "\t<script type=\"text/javascript\" src=\"https://ssl.pstatic.net/imgstock/static.pc/20220511192542/js/lcslog.js\"></script>\n",
    "</div>\n",
    "</body>\n",
    "</html>\n",
    "```"
   ]
  },
  {
   "cell_type": "markdown",
   "metadata": {
    "id": "tMGkwy2mBIZi"
   },
   "source": [
    "## pandas만으로 데이터 수집하기"
   ]
  },
  {
   "cell_type": "code",
   "execution_count": 7,
   "metadata": {
    "id": "YaNr4x2xBIZi"
   },
   "outputs": [],
   "source": [
    "# pandas 불러오기\n",
    "import pandas as pd"
   ]
  },
  {
   "cell_type": "markdown",
   "metadata": {
    "id": "54OAukymBIZj"
   },
   "source": [
    "## 검색 값 설정하기\n",
    "* 웹사이트에서 검색한 URL 안에 우리의 검색어가 들어가 있습니다.\n",
    "* 이렇게 검색어를 URL에 붙여서 넘기는 문구를 쿼리스트링이라고 부릅니다.\n",
    "* 이 문자열을 검색어에 맞게 변경해 줍니다.\n",
    "* 쿼리스트링 : 쿼리 문자열은 지정된 매개변수에 값을 할당하는 Uniform Resource Locator의 일부입니다. 쿼리 문자열에는 일반적으로 웹 브라우저나 기타 클라이언트 응용 프로그램에서 기본 URL에 추가한 필드가 포함됩니다.\n",
    "\n",
    "<img src=\"https://media.vlpt.us/images/keywookim/post/d23e05e7-0cfb-4347-ab89-f1b8a3d170c8/creating_query_strings1.png\">"
   ]
  },
  {
   "cell_type": "code",
   "execution_count": 2,
   "metadata": {
    "id": "RVLET8AHBIZj"
   },
   "outputs": [
    {
     "name": "stdout",
     "output_type": "stream",
     "text": [
      "https://finance.naver.com/item/news_news.nhn?code=005930&page=1&sm=title_entity_id.basic&clusterId=\n"
     ]
    }
   ],
   "source": [
    "print(\"https://finance.naver.com/item/news_news.nhn?code=005930&page=1&sm=title_entity_id.basic&clusterId=\")"
   ]
  },
  {
   "cell_type": "code",
   "execution_count": 3,
   "metadata": {
    "id": "UUU6D0anBIZk"
   },
   "outputs": [],
   "source": [
    "# 수집할 url을 가져옵니다.\n",
    "item_code = \"005930\"\n",
    "item_name = \"삼성전자\"\n",
    "page_no = 1"
   ]
  },
  {
   "cell_type": "code",
   "execution_count": 5,
   "metadata": {
    "id": "SvsvgERxBIZk"
   },
   "outputs": [
    {
     "name": "stdout",
     "output_type": "stream",
     "text": [
      "https://finance.naver.com/item/news_news.nhn?code=005930&page=6&sm=title_entity_id.basic&clusterId=\n"
     ]
    }
   ],
   "source": [
    "# url\n",
    "page_no=6\n",
    "url=f\"https://finance.naver.com/item/news_news.nhn?code={item_code}&page={page_no}&sm=title_entity_id.basic&clusterId=\"\n",
    "print(url)"
   ]
  },
  {
   "cell_type": "markdown",
   "metadata": {
    "id": "71f6xl7UBIZk"
   },
   "source": [
    "## read_html 로 수집하기\n",
    "* 네이버 금융의 주가 기사를 read_html로 수집해서 table 이라는 변수에 담습니다."
   ]
  },
  {
   "cell_type": "code",
   "execution_count": 8,
   "metadata": {
    "id": "4ehHNv13BIZl"
   },
   "outputs": [
    {
     "ename": "ImportError",
     "evalue": "lxml not found, please install it",
     "output_type": "error",
     "traceback": [
      "\u001b[0;31m---------------------------------------------------------------------------\u001b[0m",
      "\u001b[0;31mImportError\u001b[0m                               Traceback (most recent call last)",
      "Input \u001b[0;32mIn [8]\u001b[0m, in \u001b[0;36m<cell line: 3>\u001b[0;34m()\u001b[0m\n\u001b[1;32m      1\u001b[0m \u001b[38;5;66;03m# 수집결과 는 table이라는 변수에 담아주세요.\u001b[39;00m\n\u001b[1;32m      2\u001b[0m \u001b[38;5;66;03m# table\u001b[39;00m\n\u001b[0;32m----> 3\u001b[0m table\u001b[38;5;241m=\u001b[39m\u001b[43mpd\u001b[49m\u001b[38;5;241;43m.\u001b[39;49m\u001b[43mread_html\u001b[49m\u001b[43m(\u001b[49m\u001b[43murl\u001b[49m\u001b[43m)\u001b[49m\n\u001b[1;32m      4\u001b[0m \u001b[38;5;28mlen\u001b[39m(table)\n",
      "File \u001b[0;32m~/opt/anaconda3/envs/py39/lib/python3.9/site-packages/pandas/util/_decorators.py:311\u001b[0m, in \u001b[0;36mdeprecate_nonkeyword_arguments.<locals>.decorate.<locals>.wrapper\u001b[0;34m(*args, **kwargs)\u001b[0m\n\u001b[1;32m    305\u001b[0m \u001b[38;5;28;01mif\u001b[39;00m \u001b[38;5;28mlen\u001b[39m(args) \u001b[38;5;241m>\u001b[39m num_allow_args:\n\u001b[1;32m    306\u001b[0m     warnings\u001b[38;5;241m.\u001b[39mwarn(\n\u001b[1;32m    307\u001b[0m         msg\u001b[38;5;241m.\u001b[39mformat(arguments\u001b[38;5;241m=\u001b[39marguments),\n\u001b[1;32m    308\u001b[0m         \u001b[38;5;167;01mFutureWarning\u001b[39;00m,\n\u001b[1;32m    309\u001b[0m         stacklevel\u001b[38;5;241m=\u001b[39mstacklevel,\n\u001b[1;32m    310\u001b[0m     )\n\u001b[0;32m--> 311\u001b[0m \u001b[38;5;28;01mreturn\u001b[39;00m \u001b[43mfunc\u001b[49m\u001b[43m(\u001b[49m\u001b[38;5;241;43m*\u001b[39;49m\u001b[43margs\u001b[49m\u001b[43m,\u001b[49m\u001b[43m \u001b[49m\u001b[38;5;241;43m*\u001b[39;49m\u001b[38;5;241;43m*\u001b[39;49m\u001b[43mkwargs\u001b[49m\u001b[43m)\u001b[49m\n",
      "File \u001b[0;32m~/opt/anaconda3/envs/py39/lib/python3.9/site-packages/pandas/io/html.py:1113\u001b[0m, in \u001b[0;36mread_html\u001b[0;34m(io, match, flavor, header, index_col, skiprows, attrs, parse_dates, thousands, encoding, decimal, converters, na_values, keep_default_na, displayed_only)\u001b[0m\n\u001b[1;32m   1109\u001b[0m validate_header_arg(header)\n\u001b[1;32m   1111\u001b[0m io \u001b[38;5;241m=\u001b[39m stringify_path(io)\n\u001b[0;32m-> 1113\u001b[0m \u001b[38;5;28;01mreturn\u001b[39;00m \u001b[43m_parse\u001b[49m\u001b[43m(\u001b[49m\n\u001b[1;32m   1114\u001b[0m \u001b[43m    \u001b[49m\u001b[43mflavor\u001b[49m\u001b[38;5;241;43m=\u001b[39;49m\u001b[43mflavor\u001b[49m\u001b[43m,\u001b[49m\n\u001b[1;32m   1115\u001b[0m \u001b[43m    \u001b[49m\u001b[43mio\u001b[49m\u001b[38;5;241;43m=\u001b[39;49m\u001b[43mio\u001b[49m\u001b[43m,\u001b[49m\n\u001b[1;32m   1116\u001b[0m \u001b[43m    \u001b[49m\u001b[43mmatch\u001b[49m\u001b[38;5;241;43m=\u001b[39;49m\u001b[43mmatch\u001b[49m\u001b[43m,\u001b[49m\n\u001b[1;32m   1117\u001b[0m \u001b[43m    \u001b[49m\u001b[43mheader\u001b[49m\u001b[38;5;241;43m=\u001b[39;49m\u001b[43mheader\u001b[49m\u001b[43m,\u001b[49m\n\u001b[1;32m   1118\u001b[0m \u001b[43m    \u001b[49m\u001b[43mindex_col\u001b[49m\u001b[38;5;241;43m=\u001b[39;49m\u001b[43mindex_col\u001b[49m\u001b[43m,\u001b[49m\n\u001b[1;32m   1119\u001b[0m \u001b[43m    \u001b[49m\u001b[43mskiprows\u001b[49m\u001b[38;5;241;43m=\u001b[39;49m\u001b[43mskiprows\u001b[49m\u001b[43m,\u001b[49m\n\u001b[1;32m   1120\u001b[0m \u001b[43m    \u001b[49m\u001b[43mparse_dates\u001b[49m\u001b[38;5;241;43m=\u001b[39;49m\u001b[43mparse_dates\u001b[49m\u001b[43m,\u001b[49m\n\u001b[1;32m   1121\u001b[0m \u001b[43m    \u001b[49m\u001b[43mthousands\u001b[49m\u001b[38;5;241;43m=\u001b[39;49m\u001b[43mthousands\u001b[49m\u001b[43m,\u001b[49m\n\u001b[1;32m   1122\u001b[0m \u001b[43m    \u001b[49m\u001b[43mattrs\u001b[49m\u001b[38;5;241;43m=\u001b[39;49m\u001b[43mattrs\u001b[49m\u001b[43m,\u001b[49m\n\u001b[1;32m   1123\u001b[0m \u001b[43m    \u001b[49m\u001b[43mencoding\u001b[49m\u001b[38;5;241;43m=\u001b[39;49m\u001b[43mencoding\u001b[49m\u001b[43m,\u001b[49m\n\u001b[1;32m   1124\u001b[0m \u001b[43m    \u001b[49m\u001b[43mdecimal\u001b[49m\u001b[38;5;241;43m=\u001b[39;49m\u001b[43mdecimal\u001b[49m\u001b[43m,\u001b[49m\n\u001b[1;32m   1125\u001b[0m \u001b[43m    \u001b[49m\u001b[43mconverters\u001b[49m\u001b[38;5;241;43m=\u001b[39;49m\u001b[43mconverters\u001b[49m\u001b[43m,\u001b[49m\n\u001b[1;32m   1126\u001b[0m \u001b[43m    \u001b[49m\u001b[43mna_values\u001b[49m\u001b[38;5;241;43m=\u001b[39;49m\u001b[43mna_values\u001b[49m\u001b[43m,\u001b[49m\n\u001b[1;32m   1127\u001b[0m \u001b[43m    \u001b[49m\u001b[43mkeep_default_na\u001b[49m\u001b[38;5;241;43m=\u001b[39;49m\u001b[43mkeep_default_na\u001b[49m\u001b[43m,\u001b[49m\n\u001b[1;32m   1128\u001b[0m \u001b[43m    \u001b[49m\u001b[43mdisplayed_only\u001b[49m\u001b[38;5;241;43m=\u001b[39;49m\u001b[43mdisplayed_only\u001b[49m\u001b[43m,\u001b[49m\n\u001b[1;32m   1129\u001b[0m \u001b[43m\u001b[49m\u001b[43m)\u001b[49m\n",
      "File \u001b[0;32m~/opt/anaconda3/envs/py39/lib/python3.9/site-packages/pandas/io/html.py:915\u001b[0m, in \u001b[0;36m_parse\u001b[0;34m(flavor, io, match, attrs, encoding, displayed_only, **kwargs)\u001b[0m\n\u001b[1;32m    913\u001b[0m retained \u001b[38;5;241m=\u001b[39m \u001b[38;5;28;01mNone\u001b[39;00m\n\u001b[1;32m    914\u001b[0m \u001b[38;5;28;01mfor\u001b[39;00m flav \u001b[38;5;129;01min\u001b[39;00m flavor:\n\u001b[0;32m--> 915\u001b[0m     parser \u001b[38;5;241m=\u001b[39m \u001b[43m_parser_dispatch\u001b[49m\u001b[43m(\u001b[49m\u001b[43mflav\u001b[49m\u001b[43m)\u001b[49m\n\u001b[1;32m    916\u001b[0m     p \u001b[38;5;241m=\u001b[39m parser(io, compiled_match, attrs, encoding, displayed_only)\n\u001b[1;32m    918\u001b[0m     \u001b[38;5;28;01mtry\u001b[39;00m:\n",
      "File \u001b[0;32m~/opt/anaconda3/envs/py39/lib/python3.9/site-packages/pandas/io/html.py:872\u001b[0m, in \u001b[0;36m_parser_dispatch\u001b[0;34m(flavor)\u001b[0m\n\u001b[1;32m    870\u001b[0m \u001b[38;5;28;01melse\u001b[39;00m:\n\u001b[1;32m    871\u001b[0m     \u001b[38;5;28;01mif\u001b[39;00m \u001b[38;5;129;01mnot\u001b[39;00m _HAS_LXML:\n\u001b[0;32m--> 872\u001b[0m         \u001b[38;5;28;01mraise\u001b[39;00m \u001b[38;5;167;01mImportError\u001b[39;00m(\u001b[38;5;124m\"\u001b[39m\u001b[38;5;124mlxml not found, please install it\u001b[39m\u001b[38;5;124m\"\u001b[39m)\n\u001b[1;32m    873\u001b[0m \u001b[38;5;28;01mreturn\u001b[39;00m _valid_parsers[flavor]\n",
      "\u001b[0;31mImportError\u001b[0m: lxml not found, please install it"
     ]
    }
   ],
   "source": [
    "# 수집결과 는 table이라는 변수에 담아주세요.\n",
    "# table\n",
    "table=pd.read_html(url)\n",
    "len(table)"
   ]
  },
  {
   "cell_type": "markdown",
   "metadata": {
    "id": "cw1tvreCBIZl"
   },
   "source": [
    "## 데이터프레임으로 만들기\n",
    "* 위에서 수집한 결과 중 table 변수 안에 있는 0번째 인덱스 값을 가져와서 df 라는 변수에 담아주세요."
   ]
  },
  {
   "cell_type": "code",
   "execution_count": null,
   "metadata": {
    "id": "k23bQu-6BIZl"
   },
   "outputs": [],
   "source": [
    "# table의 0번째 인덱스 값을 df 라는 변수에 담습니다.\n",
    "# df"
   ]
  },
  {
   "cell_type": "markdown",
   "metadata": {
    "id": "yGm7kayHBIZl"
   },
   "source": [
    "## 반복문으로 데이터 모두 가져오기\n",
    "* for 문을 사용해 table 이라는 변수 안에 있는 값을 모두 가져오기\n",
    "* temp_list 에 수집한 값을 담아주세요."
   ]
  },
  {
   "cell_type": "code",
   "execution_count": null,
   "metadata": {
    "id": "fNnjZHeTBIZl"
   },
   "outputs": [],
   "source": [
    "# temp_list = []\n",
    "# for news in table:\n"
   ]
  },
  {
   "cell_type": "markdown",
   "metadata": {
    "id": "lxwIpAujBIZm"
   },
   "source": [
    "## 수집한 데이터 하나의 데이터프레임으로 합치기\n",
    "\n",
    "<img src=\"https://pandas.pydata.org/docs/_images/merging_concat_basic.png\">\n",
    "\n",
    "* [Merge, join, concatenate and compare documentation](https://pandas.pydata.org/docs/user_guide/merging.html#merge-join-concatenate-and-compare)\n",
    "\n",
    "* concat :  \n",
    "    * axis=0 행을 기준으로 위아래로 같은 컬럼끼리 값을 이어 붙여 새로운 행을 만듦\n",
    "    * axis=1 컬럼을 기준으로 인덱스가 같은 값을 옆으로 붙여 새로운 컬럼을 만듦"
   ]
  },
  {
   "cell_type": "code",
   "execution_count": null,
   "metadata": {
    "id": "5sB1gBN-BIZm"
   },
   "outputs": [],
   "source": [
    "# pd.concat\n",
    "\n"
   ]
  },
  {
   "cell_type": "markdown",
   "metadata": {
    "id": "hpMsndScBIZm"
   },
   "source": [
    "## 위에서 수집한 데이터에서 결측치를 제거합니다."
   ]
  },
  {
   "cell_type": "code",
   "execution_count": null,
   "metadata": {
    "id": "L5TODd5hBIZm"
   },
   "outputs": [],
   "source": [
    "# dropna\n"
   ]
  },
  {
   "cell_type": "markdown",
   "metadata": {
    "id": "BBVYpcByBIZm"
   },
   "source": [
    "## 네이버 수집한 기사에서 \"제목\"에 \"연관기사\"가 들어가는 데이터를 제거합니다.\n",
    "\n",
    "* <font color=\"red\">.str.contains 를 사용하며 조건의 반대에는 앞에 ~ 표시로 표현할 수 있습니다.</red>"
   ]
  },
  {
   "cell_type": "code",
   "execution_count": null,
   "metadata": {
    "id": "I4LplM5NBIZm"
   },
   "outputs": [],
   "source": [
    "\n"
   ]
  },
  {
   "cell_type": "markdown",
   "metadata": {
    "id": "uhUNnnziBIZm"
   },
   "source": [
    "## 위의 과정을 함수로 만듭니다.\n",
    "* 빈칸을 완성해 수집한 table 을 넘겨주면 데이터프레임을 반환하는 함수를 완성해 주세요."
   ]
  },
  {
   "cell_type": "code",
   "execution_count": null,
   "metadata": {
    "id": "xZhG05sGBIZm"
   },
   "outputs": [],
   "source": [
    "# get_url item_code, page_no 를 넘기면 url 을 반환하는 함수\n",
    "def get_url(item_code, page_no):\n",
    "    \"\"\"\n",
    "    item_code, page_no 를 넘기면 url 을 반환하는 함수\n",
    "    \"\"\"\n",
    "    "
   ]
  },
  {
   "cell_type": "markdown",
   "metadata": {
    "id": "z3XuHj7DBIZn"
   },
   "source": [
    "## 뉴스 한 페이지를 수집하는 함수\n",
    "```\n",
    "    1) URL 을 받아옴\n",
    "    2) read_html 로 테이블 정보를 받아옴\n",
    "    3) 데이터프레임 컬럼명을 [\"제목\", \"정보제공\", \"날짜\"]로 변경\n",
    "    4) temp_list 에 데이터프레임을 추가\n",
    "    5) concat 으로 리스트 병합하여 하나의 데이터프레임으로 만들기\n",
    "    6) 결측치 제거\n",
    "    7) 연관기사 제거\n",
    "    8) 중복데이터 제거\n",
    "    9) 데이터프레임 반환\n",
    "```"
   ]
  },
  {
   "cell_type": "code",
   "execution_count": null,
   "metadata": {
    "id": "H3UR-Qp8BIZn"
   },
   "outputs": [],
   "source": [
    "# get_one_page_news 함수 만들기\n",
    "def get_one_page_news(item_code, page_no):\n",
    "    \"\"\"\n",
    "    get_url 에 item_code, page_no 를 넘겨 url 을 받아오고\n",
    "    뉴스 한 페이지를 수집하는 함수\n",
    "    1) URL 을 받아옴\n",
    "    2) read_html 로 테이블 정보를 받아옴\n",
    "    3) 데이터프레임 컬럼명을 [\"제목\", \"정보제공\", \"날짜\"]로 변경\n",
    "    4) temp_list 에 데이터프레임을 추가\n",
    "    5) concat 으로 리스트 병합하여 하나의 데이터프레임으로 만들기\n",
    "    6) 결측치 제거\n",
    "    7) 연관기사 제거\n",
    "    8) 중복데이터 제거\n",
    "    9) 데이터프레임 반환\n",
    "    \"\"\"\n",
    "    "
   ]
  },
  {
   "cell_type": "markdown",
   "metadata": {
    "id": "snqfTTUXBIZn"
   },
   "source": [
    "* 아래 코드를 실행했을 때 수집된 데이터프레임이 출력된다면 잘 만들어진 것입니다."
   ]
  },
  {
   "cell_type": "code",
   "execution_count": null,
   "metadata": {
    "id": "dzLZ-GrzBIZn"
   },
   "outputs": [],
   "source": [
    "page_no = 2\n",
    "\n",
    "temp = get_one_page_news(item_code, page_no)\n",
    "temp"
   ]
  },
  {
   "cell_type": "markdown",
   "metadata": {
    "id": "w-RZ90dRBIZn"
   },
   "source": [
    "## 반복문을 사용해 10페이지까지 수집\n",
    "* 위에서 만든 함수를 활용합니다.\n",
    "* time.sleep() 을 통해 데이터를 쉬었다 가져옵니다."
   ]
  },
  {
   "cell_type": "code",
   "execution_count": null,
   "metadata": {
    "id": "f2wQABZ8BIZn"
   },
   "outputs": [],
   "source": [
    "import time\n",
    "from tqdm import trange\n",
    "\n",
    "page_no = 0\n",
    "news_list = []\n",
    "\n"
   ]
  },
  {
   "cell_type": "markdown",
   "metadata": {
    "id": "Y4Wkqbx9BIZn"
   },
   "source": [
    "## 위에서 수집한 데이터는 news_list 라는 변수에 들어있습니다. 판다스를 활용해 하나의 데이터프레임으로 만들어 주세요.\n",
    "\n",
    "* concat :  \n",
    "    * axis=0 행을 기준으로 위아래로 같은 컬럼끼리 값을 이어 붙여 새로운 행을 만듦\n",
    "    * axis=1 컬럼을 기준으로 인덱스가 같은 값을 옆으로 붙여 새로운 컬럼을 만듦"
   ]
  },
  {
   "cell_type": "code",
   "execution_count": null,
   "metadata": {
    "id": "_TWkvgJPBIZn"
   },
   "outputs": [],
   "source": [
    "# df_news\n"
   ]
  },
  {
   "cell_type": "markdown",
   "metadata": {
    "id": "LB1pbpWWBIZn"
   },
   "source": [
    "## 파일로 저장하기\n",
    "\n",
    "<img src=\"https://pandas.pydata.org/docs/_images/02_io_readwrite.svg\">"
   ]
  },
  {
   "cell_type": "code",
   "execution_count": null,
   "metadata": {
    "id": "6DkMP0jfBIZn"
   },
   "outputs": [],
   "source": [
    "file_name = f\"news_{item_code}_{item_name}.csv\"\n",
    "file_name"
   ]
  },
  {
   "cell_type": "code",
   "execution_count": null,
   "metadata": {
    "id": "N0Besm8ZBIZn"
   },
   "outputs": [],
   "source": [
    "# to_csv\n"
   ]
  },
  {
   "cell_type": "code",
   "execution_count": null,
   "metadata": {
    "id": "vX3_0dPIBIZo"
   },
   "outputs": [],
   "source": [
    "# read_csv\n"
   ]
  },
  {
   "cell_type": "code",
   "execution_count": null,
   "metadata": {
    "id": "Uc_TmI3zBIZo"
   },
   "outputs": [],
   "source": []
  }
 ],
 "metadata": {
  "colab": {
   "provenance": []
  },
  "kernelspec": {
   "display_name": "Python 3 (ipykernel)",
   "language": "python",
   "name": "python3"
  },
  "language_info": {
   "codemirror_mode": {
    "name": "ipython",
    "version": 3
   },
   "file_extension": ".py",
   "mimetype": "text/x-python",
   "name": "python",
   "nbconvert_exporter": "python",
   "pygments_lexer": "ipython3",
   "version": "3.9.7"
  },
  "toc": {
   "base_numbering": 1,
   "nav_menu": {},
   "number_sections": true,
   "sideBar": true,
   "skip_h1_title": false,
   "title_cell": "Table of Contents",
   "title_sidebar": "Contents",
   "toc_cell": false,
   "toc_position": {},
   "toc_section_display": true,
   "toc_window_display": true
  },
  "varInspector": {
   "cols": {
    "lenName": 16,
    "lenType": 16,
    "lenVar": 40
   },
   "kernels_config": {
    "python": {
     "delete_cmd_postfix": "",
     "delete_cmd_prefix": "del ",
     "library": "var_list.py",
     "varRefreshCmd": "print(var_dic_list())"
    },
    "r": {
     "delete_cmd_postfix": ") ",
     "delete_cmd_prefix": "rm(",
     "library": "var_list.r",
     "varRefreshCmd": "cat(var_dic_list()) "
    }
   },
   "types_to_exclude": [
    "module",
    "function",
    "builtin_function_or_method",
    "instance",
    "_Feature"
   ],
   "window_display": false
  }
 },
 "nbformat": 4,
 "nbformat_minor": 4
}
