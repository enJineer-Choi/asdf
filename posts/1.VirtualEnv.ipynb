{
 "cells": [
  {
   "cell_type": "markdown",
   "id": "9c7947e1-367e-42a2-bbe3-576948eebf1f",
   "metadata": {},
   "source": [
    "# Virtual Environment\n",
    "> 가상환경 사용이유, 사용방법\n",
    "\n",
    "최석진\n",
    "2023-12-29\n",
    "\n",
    "> 최규빈 교수님의 2021 R입문 6주차 강의를 바탕으로 제작"
   ]
  },
  {
   "cell_type": "markdown",
   "id": "ae10b2d3-806d-4f4f-82fb-b790ef3062e8",
   "metadata": {},
   "source": [
    "## 가상환경 = 가상의 컴퓨터\n",
    "- 컴퓨터를 어떤 폴더들의 모임이라고 생각\n",
    "\n"
   ]
  },
  {
   "cell_type": "markdown",
   "id": "6cc5d4d4-a5c9-41d6-9ed6-f5485e04b686",
   "metadata": {},
   "source": [
    "## 아나콘다 = 가상의 컴퓨터를 만들어주는 프로그램\n",
    "1. 아나콘다를 설치함과 동시에 가상환경 생성 (base)\n",
    "2. 유저가 새로운 가상환경을 만드는 기능 제공 \n",
    "    - 여러 폴더를 만들면 장점?/의미? -> 패키지 설치 시 경로가 다름. 여러 패키지를 다른 환경에 설치가능\n",
    "    - install.packages() : Excel을 다운로드 / library() : Excel을 더블클릭하여 실행\n",
    "    - 패키지를 설치하는 건 어떤 폴더를 특정 폴더에 넣는(?) 그런 느낌\n"
   ]
  },
  {
   "cell_type": "markdown",
   "id": "f9a2029f-a1b0-495d-b1f3-47c54f50578b",
   "metadata": {},
   "source": [
    "## 가상환경에 설치\n",
    "\n",
    "가상환경을 만드는 이유 : 패키지들의 충돌 발생\n",
    "-> 오픈소스의 특징(누구나 참여가능 -> 누구나 본인이 만든것을 배포가능)\n",
    "\n",
    "ex) 기존에 존재하는 함수의 이름을 변경한다거나, 함수를 삭제하는 경우 : 그것을 기반으로 만든 다른 패키지들이 동작 X\n"
   ]
  },
  {
   "cell_type": "markdown",
   "id": "7ca8e14f-1382-4582-9937-963804652aea",
   "metadata": {},
   "source": [
    "## 충돌 해결 방법 \n",
    "\n",
    "아나콘다에서 채널의 의미 : 유사한 패키지들의 \"커뮤니티\"\n",
    "\n",
    "```\n",
    "conda install -c conda-forge\n",
    "```\n",
    "-> conda-forge라는 채널에서 추천해주는 패키지들의 조합으로 설치하겠다는 의미"
   ]
  }
 ],
 "metadata": {
  "kernelspec": {
   "display_name": "Python 3 (ipykernel)",
   "language": "python",
   "name": "python3"
  },
  "language_info": {
   "codemirror_mode": {
    "name": "ipython",
    "version": 3
   },
   "file_extension": ".py",
   "mimetype": "text/x-python",
   "name": "python",
   "nbconvert_exporter": "python",
   "pygments_lexer": "ipython3",
   "version": "3.9.7"
  }
 },
 "nbformat": 4,
 "nbformat_minor": 5
}
