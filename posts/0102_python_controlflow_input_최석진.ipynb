{
 "cells": [
  {
   "cell_type": "markdown",
   "metadata": {},
   "source": [
    "파이썬은 indentation 4칸!"
   ]
  },
  {
   "cell_type": "markdown",
   "metadata": {
    "id": "R53nXTbwFhic"
   },
   "source": [
    "## 조건문\n",
    "### if\n",
    "* https://docs.python.org/ko/3/tutorial/controlflow.html#if-statements"
   ]
  },
  {
   "cell_type": "code",
   "execution_count": 3,
   "metadata": {
    "id": "e7YgxiffFhig"
   },
   "outputs": [
    {
     "name": "stdin",
     "output_type": "stream",
     "text": [
      "Please enter an integer:  -1\n"
     ]
    },
    {
     "name": "stdout",
     "output_type": "stream",
     "text": [
      "음수\n"
     ]
    }
   ],
   "source": [
    "# 숫자를 입력받아 음수와 양수 여부를 출력합니다.\n",
    "x = int(input(\"Please enter an integer: \"))\n",
    "if x>0:\n",
    "    print(\"양수\")\n",
    "elif x==0:\n",
    "    print(\"0\")\n",
    "else:\n",
    "    print(\"음수\")"
   ]
  },
  {
   "cell_type": "markdown",
   "metadata": {},
   "source": [
    "콜론이 들어간 다음줄의 경우 반드시 들여쓰기를 해줘야 한다."
   ]
  },
  {
   "cell_type": "markdown",
   "metadata": {
    "id": "pQz57bGZFhii"
   },
   "source": [
    "## 반복문\n",
    "### for\n",
    "* https://docs.python.org/ko/3/tutorial/controlflow.html#for-statements"
   ]
  },
  {
   "cell_type": "code",
   "execution_count": 4,
   "metadata": {
    "id": "ST13Bm6IFhii"
   },
   "outputs": [
    {
     "data": {
      "text/plain": [
       "['월', '화', '수', '목', '금', '토', '일']"
      ]
     },
     "execution_count": 4,
     "metadata": {},
     "output_type": "execute_result"
    }
   ],
   "source": [
    "# \"월화수목금토일\" 을 리스트 형태로 변경합니다.\n",
    "weekday = []\n",
    "for wd in \"월화수목금토일\":\n",
    "    weekday.append(wd)\n",
    "weekday"
   ]
  },
  {
   "cell_type": "code",
   "execution_count": 5,
   "metadata": {
    "id": "g80UkwrfFhij"
   },
   "outputs": [
    {
     "name": "stdout",
     "output_type": "stream",
     "text": [
      "월\n",
      "화\n",
      "수\n",
      "목\n",
      "금\n",
      "토\n",
      "일\n"
     ]
    }
   ],
   "source": [
    "# 리스트 안에 있는 값을 순회하며 반복문으로 출력해 보세요.\n",
    "weekday = ['월', '화', '수', '목', '금', '토', '일']\n",
    "for wd in weekday:\n",
    "    print(wd)"
   ]
  },
  {
   "cell_type": "markdown",
   "metadata": {
    "id": "ihcORQuKFhij"
   },
   "source": [
    "### range() 함수\n",
    "* https://docs.python.org/ko/3/tutorial/controlflow.html#the-range-function\n",
    "\n",
    "* range([초기치, ]최종치[, 증가치]) => [ ]안의 내용은 생략이 가능합니다.  \n",
    "* 초기치를 생략하면 0이, 증가치를 생략하면 1이 기본값으로 사용됩니다.\n",
    "* range()함수는 초기치, 최종치, 증가치에 따른 숫자 리스트를 만들어 줍니다.  \n",
    "* range(0, 10, 1) == range(10)입니다."
   ]
  },
  {
   "cell_type": "code",
   "execution_count": 6,
   "metadata": {
    "id": "UldWEn6uFhik"
   },
   "outputs": [
    {
     "name": "stdout",
     "output_type": "stream",
     "text": [
      "0\n",
      "1\n",
      "2\n",
      "3\n",
      "4\n",
      "5\n",
      "6\n",
      "7\n",
      "8\n",
      "9\n"
     ]
    }
   ],
   "source": [
    "# range로 범위를 지정해 반복문을 수행할 수 있습니다.\n",
    "for i in range(10):\n",
    "    print(i)"
   ]
  },
  {
   "cell_type": "code",
   "execution_count": 7,
   "metadata": {
    "id": "Jt_i1d7dFhik"
   },
   "outputs": [
    {
     "name": "stdout",
     "output_type": "stream",
     "text": [
      "http://naver.com/?page=1\n",
      "http://naver.com/?page=2\n",
      "http://naver.com/?page=3\n",
      "http://naver.com/?page=4\n",
      "http://naver.com/?page=5\n",
      "http://naver.com/?page=6\n",
      "http://naver.com/?page=7\n",
      "http://naver.com/?page=8\n",
      "http://naver.com/?page=9\n",
      "http://naver.com/?page=10\n"
     ]
    }
   ],
   "source": [
    "# f-string 을 사용하여 특정 URL 페이지를 만들어 볼 수 있습니다.\n",
    "# 예) https://naver.com/?page=1\n",
    "for page_no in range(1,11):\n",
    "    print(f\"http://naver.com/?page={page_no}\")"
   ]
  },
  {
   "cell_type": "code",
   "execution_count": null,
   "metadata": {
    "id": "AgAlPQEKFhil"
   },
   "outputs": [],
   "source": [
    "# 리스트를 변수로 받아 순회할 수도 있지만 리스트의 길이만큼 range 값을 생성하여 순회할 수도 있습니다.\n"
   ]
  },
  {
   "cell_type": "code",
   "execution_count": 10,
   "metadata": {
    "id": "uTiUPbDcFhil"
   },
   "outputs": [
    {
     "name": "stdout",
     "output_type": "stream",
     "text": [
      "0 월\n",
      "1 화\n",
      "2 수\n",
      "3 목\n",
      "4 금\n",
      "5 토\n",
      "6 일\n"
     ]
    }
   ],
   "source": [
    "# enumerate 를 사용하면 인덱스 번호와 값을 함께 가져올 수 있습니다.\n",
    "for i,wd in enumerate(weekday):\n",
    "    print(i,wd)"
   ]
  },
  {
   "cell_type": "markdown",
   "metadata": {
    "id": "9SfN1jvhFhim"
   },
   "source": [
    "### 조건문과 반복문 함께 사용하기"
   ]
  },
  {
   "cell_type": "code",
   "execution_count": 14,
   "metadata": {
    "id": "ldWTLMaoFhim"
   },
   "outputs": [
    {
     "name": "stdout",
     "output_type": "stream",
     "text": [
      "1 1 홀수\n",
      "2 0 짝수\n",
      "3 1 홀수\n",
      "4 0 짝수\n",
      "5 1 홀수\n",
      "6 0 짝수\n",
      "7 1 홀수\n",
      "8 0 짝수\n",
      "9 1 홀수\n",
      "10 0 짝수\n"
     ]
    }
   ],
   "source": [
    "# range로 값을 순회하며 짝수일 때는 \"짝수\"를 홀수일 때는 \"홀수\"를 출력하게 합니다.\n",
    "for i in range(1,11):\n",
    "    if i%2==0:\n",
    "        print(i,i%2,\"짝수\")\n",
    "    else:\n",
    "        print(i,i%2,\"홀수\")"
   ]
  },
  {
   "cell_type": "markdown",
   "metadata": {},
   "source": [
    "if문은 for문 안에서 작동한다!"
   ]
  },
  {
   "cell_type": "markdown",
   "metadata": {
    "id": "wiwrHrdNFhim"
   },
   "source": [
    "### while 문\n",
    "* 조건문이 참인 동안 순회하며 실행되기 때문에 특정 조건까지 반복문을 수행하고자 할때 사용합니다.\n",
    "* 예를 들어 특정 웹페이지를 순회한다면 내용이 없을 때까지 순회하라는 반복문을 구현할 수 있습니다."
   ]
  },
  {
   "cell_type": "markdown",
   "metadata": {},
   "source": [
    "범위가 정해져있지 않을 때 사용!"
   ]
  },
  {
   "cell_type": "code",
   "execution_count": 16,
   "metadata": {
    "id": "ZLB-qo7rFhim"
   },
   "outputs": [
    {
     "name": "stdout",
     "output_type": "stream",
     "text": [
      "1\n",
      "2\n",
      "3\n",
      "4\n",
      "5\n",
      "6\n",
      "7\n",
      "8\n",
      "9\n",
      "10\n",
      "11\n"
     ]
    }
   ],
   "source": [
    "# 변수의 초깃값을 부여하고 특정 변수값이 되면 종료하도록 합니다.\n",
    "i=0\n",
    "while True:\n",
    "    i =i+1\n",
    "    print(i)\n",
    "    if i>10:\n",
    "        break"
   ]
  },
  {
   "cell_type": "markdown",
   "metadata": {
    "id": "kMWdLCSAFhin"
   },
   "source": [
    "## 함수\n",
    "* https://docs.python.org/ko/3/tutorial/controlflow.html#defining-functions"
   ]
  },
  {
   "cell_type": "code",
   "execution_count": 17,
   "metadata": {
    "id": "2xqJ_ugXFhin"
   },
   "outputs": [],
   "source": [
    "# split_phone 이름을 갖는 전화번호 국번을 반환하는 함수를 만듭니다.\n",
    "num = \"02-321-1234\""
   ]
  },
  {
   "cell_type": "code",
   "execution_count": 20,
   "metadata": {},
   "outputs": [
    {
     "data": {
      "text/plain": [
       "['02', '321', '1234']"
      ]
     },
     "execution_count": 20,
     "metadata": {},
     "output_type": "execute_result"
    }
   ],
   "source": [
    "num.split(\"-\")"
   ]
  },
  {
   "cell_type": "code",
   "execution_count": 18,
   "metadata": {
    "id": "ZophnGBjFhin"
   },
   "outputs": [
    {
     "data": {
      "text/plain": [
       "'02'"
      ]
     },
     "execution_count": 18,
     "metadata": {},
     "output_type": "execute_result"
    }
   ],
   "source": [
    "def split_phone(num):\n",
    "    return num.split(\"-\")[0]\n",
    "\n",
    "split_phone(num)"
   ]
  },
  {
   "cell_type": "code",
   "execution_count": 21,
   "metadata": {
    "id": "GawRe59QFhin"
   },
   "outputs": [],
   "source": [
    "# 문자열 전처리로 월을 반환하는 함수 만들기\n",
    "date = \"2023년 04월 27일\""
   ]
  },
  {
   "cell_type": "code",
   "execution_count": 24,
   "metadata": {
    "id": "aCUVdCIiFhio"
   },
   "outputs": [
    {
     "data": {
      "text/plain": [
       "4"
      ]
     },
     "execution_count": 24,
     "metadata": {},
     "output_type": "execute_result"
    }
   ],
   "source": [
    "# 함수명 find_month \n",
    "def find_month(date):\n",
    "    \"\"\"\n",
    "    월을 반환하는 함수\n",
    "    문자열을 split()을 사용해서 공백으로 나누고\n",
    "    결과리스트에서 1번원소를 가져와서 \"월\"이라는 텍스트를 제거해주고\n",
    "    int형식으로 변환해서 반환해주는 함수\n",
    "    \"\"\"\n",
    "    return int(date.split()[1].replace(\"월\",\"\"))\n",
    "find_month(date)                                   "
   ]
  },
  {
   "cell_type": "markdown",
   "metadata": {
    "id": "n4qYcUzBFhio"
   },
   "source": [
    "## 함수의 도움말 보기"
   ]
  },
  {
   "cell_type": "code",
   "execution_count": 25,
   "metadata": {
    "id": "n8WFcxJCFhio"
   },
   "outputs": [],
   "source": [
    "# ? 문서보기\n",
    "# split_phone?"
   ]
  },
  {
   "cell_type": "code",
   "execution_count": 26,
   "metadata": {
    "id": "Do36VsfEFhip"
   },
   "outputs": [],
   "source": [
    "# ??소스코드 보기\n",
    "# split_phone??"
   ]
  },
  {
   "cell_type": "markdown",
   "metadata": {
    "id": "596q8lUAFhip"
   },
   "source": [
    "## 응용1\n",
    "* http://data.seoul.go.kr/dataList/OA-15248/F/1/datasetView.do\n",
    "* 월별 대여현황에서 연령대는 코드로 제공됩니다. 해당 코드를 값과 매핑하기 위해 딕셔너리 형태로 가공해 보는 연습을 합니다.\n",
    "* 다음의 형태가 되도록 만들어 주세요. 조건문과 반복문을 꼭 활용해 주어야 합니다.\n",
    "```\n",
    "{'AGE_001': '10대',\n",
    " 'AGE_002': '20대',\n",
    " 'AGE_003': '30대',\n",
    " 'AGE_004': '40대',\n",
    " 'AGE_005': '50대',\n",
    " 'AGE_006': '60대',\n",
    " 'AGE_007': '70대',\n",
    " 'AGE_008': '기타'}\n",
    "```"
   ]
  },
  {
   "cell_type": "code",
   "execution_count": 27,
   "metadata": {
    "id": "KpF2bLwjFhip"
   },
   "outputs": [
    {
     "data": {
      "text/plain": [
       "'\\n10대 : AGE_001\\n20대 : AGE_002\\n30대 : AGE_003\\n40대 : AGE_004\\n50대 : AGE_005\\n60대 : AGE_006\\n70대 : AGE_007\\n기타 : AGE_008\\n( 비회원, 외국인, 그 이상 등 )'"
      ]
     },
     "execution_count": 27,
     "metadata": {},
     "output_type": "execute_result"
    }
   ],
   "source": [
    "age_code = \"\"\"\n",
    "10대 : AGE_001\n",
    "20대 : AGE_002\n",
    "30대 : AGE_003\n",
    "40대 : AGE_004\n",
    "50대 : AGE_005\n",
    "60대 : AGE_006\n",
    "70대 : AGE_007\n",
    "기타 : AGE_008\n",
    "( 비회원, 외국인, 그 이상 등 )\"\"\"\n",
    "age_code"
   ]
  },
  {
   "cell_type": "code",
   "execution_count": 28,
   "metadata": {},
   "outputs": [
    {
     "data": {
      "text/plain": [
       "['',\n",
       " '10대 : AGE_001',\n",
       " '20대 : AGE_002',\n",
       " '30대 : AGE_003',\n",
       " '40대 : AGE_004',\n",
       " '50대 : AGE_005',\n",
       " '60대 : AGE_006',\n",
       " '70대 : AGE_007',\n",
       " '기타 : AGE_008',\n",
       " '( 비회원, 외국인, 그 이상 등 )']"
      ]
     },
     "execution_count": 28,
     "metadata": {},
     "output_type": "execute_result"
    }
   ],
   "source": [
    "age_code.split(\"\\n\")"
   ]
  },
  {
   "cell_type": "code",
   "execution_count": 29,
   "metadata": {
    "id": "5qgF-5dzFhip"
   },
   "outputs": [
    {
     "data": {
      "text/plain": [
       "{'AGE_001': '10대',\n",
       " 'AGE_002': '20대',\n",
       " 'AGE_003': '30대',\n",
       " 'AGE_004': '40대',\n",
       " 'AGE_005': '50대',\n",
       " 'AGE_006': '60대',\n",
       " 'AGE_007': '70대',\n",
       " 'AGE_008': '기타'}"
      ]
     },
     "execution_count": 29,
     "metadata": {},
     "output_type": "execute_result"
    }
   ],
   "source": [
    "age_dict = {}\n",
    "\n",
    "for a in age_code.split(\"\\n\"):\n",
    "    ages = a.split(\":\")\n",
    "    if len(ages) > 1:\n",
    "        age_dict[ages[1].strip()] = ages[0].strip()\n",
    "        \n",
    "age_dict"
   ]
  },
  {
   "cell_type": "code",
   "execution_count": null,
   "metadata": {
    "id": "sLn0iLfxFhiq"
   },
   "outputs": [],
   "source": []
  },
  {
   "cell_type": "code",
   "execution_count": null,
   "metadata": {
    "id": "aHXalSJJFhiq"
   },
   "outputs": [],
   "source": []
  },
  {
   "cell_type": "markdown",
   "metadata": {
    "id": "1kuX5C6IFhiq"
   },
   "source": [
    "## 응용2 - 딕셔너리의 결과가 아래와 같이 나오도록 아래의 문자열을 변경해 보세요.\n",
    "```\n",
    "{'경기': '031',\n",
    "'강원': '033',\n",
    "'충남': '041',\n",
    "'충북': '043',\n",
    "'경북': '054',\n",
    "'경남': '055',\n",
    "'전남': '061',\n",
    "'전북': '063'}\n",
    "```"
   ]
  },
  {
   "cell_type": "code",
   "execution_count": 32,
   "metadata": {
    "id": "8Qog3cD9Fhiq"
   },
   "outputs": [
    {
     "data": {
      "text/plain": [
       "['',\n",
       " '경기 031 ',\n",
       " '강원 033 ',\n",
       " '충남 041 ',\n",
       " '충북 043 ',\n",
       " '경북 054 ',\n",
       " '경남 055 ',\n",
       " '전남 061 ',\n",
       " '전북 063']"
      ]
     },
     "execution_count": 32,
     "metadata": {},
     "output_type": "execute_result"
    }
   ],
   "source": [
    "# 아래의 문자를 딕셔너리 형태로 변경하기\n",
    "phone = \">경기 031 >강원 033 >충남 041 >충북 043 >경북 054 >경남 055 >전남 061 >전북 063\"\n",
    "# \">\" 문자를 기준으로 문자열을 나눕니다. => split() 으로 리스트로 변환\n",
    "# for문으로 리스트를 반복해서 phone_dict 에 채웁니다.\n",
    "phone.split(\">\")"
   ]
  },
  {
   "cell_type": "code",
   "execution_count": 33,
   "metadata": {
    "id": "04_KixxQFhir"
   },
   "outputs": [
    {
     "ename": "KeyError",
     "evalue": "'경기'",
     "output_type": "error",
     "traceback": [
      "\u001b[0;31m---------------------------------------------------------------------------\u001b[0m",
      "\u001b[0;31mKeyError\u001b[0m                                  Traceback (most recent call last)",
      "Input \u001b[0;32mIn [33]\u001b[0m, in \u001b[0;36m<cell line: 2>\u001b[0;34m()\u001b[0m\n\u001b[1;32m      3\u001b[0m pss\u001b[38;5;241m=\u001b[39mps\u001b[38;5;241m.\u001b[39msplit()\n\u001b[1;32m      4\u001b[0m \u001b[38;5;28;01mif\u001b[39;00m \u001b[38;5;28mlen\u001b[39m(pss)\u001b[38;5;241m==\u001b[39m\u001b[38;5;241m2\u001b[39m:\n\u001b[0;32m----> 5\u001b[0m     \u001b[43mphone_dict\u001b[49m\u001b[43m[\u001b[49m\u001b[43mpss\u001b[49m\u001b[43m[\u001b[49m\u001b[38;5;241;43m0\u001b[39;49m\u001b[43m]\u001b[49m\u001b[43m]\u001b[49m\u001b[38;5;241m==\u001b[39mpss[\u001b[38;5;241m1\u001b[39m]\n",
      "\u001b[0;31mKeyError\u001b[0m: '경기'"
     ]
    }
   ],
   "source": [
    "phone_dict={}\n",
    "for ps in phone.split(\">\"):\n",
    "    pss=ps.split()\n",
    "    if len(pss)==2:\n",
    "        phone_dict[pss[0]]==pss[1]"
   ]
  },
  {
   "cell_type": "code",
   "execution_count": 34,
   "metadata": {
    "id": "p6IA6i7NFhir"
   },
   "outputs": [
    {
     "data": {
      "text/plain": [
       "{}"
      ]
     },
     "execution_count": 34,
     "metadata": {},
     "output_type": "execute_result"
    }
   ],
   "source": [
    "phone_dict"
   ]
  },
  {
   "cell_type": "code",
   "execution_count": null,
   "metadata": {
    "id": "1tZ1hLZiFhir"
   },
   "outputs": [],
   "source": []
  }
 ],
 "metadata": {
  "colab": {
   "provenance": []
  },
  "kernelspec": {
   "display_name": "Python 3 (ipykernel)",
   "language": "python",
   "name": "python3"
  },
  "language_info": {
   "codemirror_mode": {
    "name": "ipython",
    "version": 3
   },
   "file_extension": ".py",
   "mimetype": "text/x-python",
   "name": "python",
   "nbconvert_exporter": "python",
   "pygments_lexer": "ipython3",
   "version": "3.9.7"
  },
  "toc": {
   "base_numbering": 1,
   "nav_menu": {},
   "number_sections": true,
   "sideBar": true,
   "skip_h1_title": false,
   "title_cell": "Table of Contents",
   "title_sidebar": "Contents",
   "toc_cell": false,
   "toc_position": {},
   "toc_section_display": true,
   "toc_window_display": true
  },
  "varInspector": {
   "cols": {
    "lenName": 16,
    "lenType": 16,
    "lenVar": 40
   },
   "kernels_config": {
    "python": {
     "delete_cmd_postfix": "",
     "delete_cmd_prefix": "del ",
     "library": "var_list.py",
     "varRefreshCmd": "print(var_dic_list())"
    },
    "r": {
     "delete_cmd_postfix": ") ",
     "delete_cmd_prefix": "rm(",
     "library": "var_list.r",
     "varRefreshCmd": "cat(var_dic_list()) "
    }
   },
   "types_to_exclude": [
    "module",
    "function",
    "builtin_function_or_method",
    "instance",
    "_Feature"
   ],
   "window_display": false
  }
 },
 "nbformat": 4,
 "nbformat_minor": 4
}
